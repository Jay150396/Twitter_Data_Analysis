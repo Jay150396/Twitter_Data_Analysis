{
 "cells": [
  {
   "cell_type": "code",
   "execution_count": 14,
   "id": "eedbd96b",
   "metadata": {},
   "outputs": [],
   "source": [
    "import os\n",
    "import tweepy as tw"
   ]
  },
  {
   "cell_type": "code",
   "execution_count": 15,
   "id": "8de89ea2",
   "metadata": {},
   "outputs": [],
   "source": [
    "consumer_key = 'zsTrAIqVMAl6fMjd3aCnc243e'\n",
    "consumer_secret = 'bezIY6xoFrQTVr0BYdinyyd8eVc60JNDaXMCWFXr3blfVZ9PV0'\n",
    "access_token = '1059163618317606912-u4xy1i6vU5eptnQxnka9HXvz2eCNX6'\n",
    "access_token_secret = 'YQFGmkCYKIyDLmMO4Nfw3iRjPAMY9E4MtfLacmgohOsSI'"
   ]
  },
  {
   "cell_type": "code",
   "execution_count": 16,
   "id": "a36e47d8",
   "metadata": {},
   "outputs": [],
   "source": [
    "auth = tw.OAuthHandler(consumer_key, consumer_secret)\n",
    "auth.set_access_token(access_token, access_token_secret)\n",
    "api = tw.API(auth, wait_on_rate_limit=True)"
   ]
  },
  {
   "cell_type": "code",
   "execution_count": 17,
   "id": "811ecb6b",
   "metadata": {},
   "outputs": [],
   "source": [
    "search_words = \"#pawankalyan\"\n",
    "date_since = \"2018-11-16\""
   ]
  },
  {
   "cell_type": "code",
   "execution_count": 18,
   "id": "17ed6f11",
   "metadata": {},
   "outputs": [
    {
     "data": {
      "text/plain": [
       "['RT @Kiran__Kalyan: Att  Mutuals 😍🔥\\n\\n#PawanKalyan #Prabhas #Maheshbabu \\n\\n#HappyBirthdayMaheshBabu https://t.co/yTSlamBSN4',\n",
       " 'RT @Kiran__Kalyan: Att  Mutuals 😍🔥\\n\\n#PawanKalyan #Prabhas #Maheshbabu \\n\\n#HappyBirthdayMaheshBabu https://t.co/yTSlamBSN4',\n",
       " 'RT @bobbymallesh687: Happy Birthday Brother @Basha__JSP  KING OF EDITS 🔥🔥🔥🤫🤫\\n   #PawanKalyan #BashaJSP @TrendPSPK',\n",
       " 'RT @Kiran__Kalyan: Att  Mutuals 😍🔥\\n\\n#PawanKalyan #Prabhas #Maheshbabu \\n\\n#HappyBirthdayMaheshBabu https://t.co/yTSlamBSN4',\n",
       " 'RT @Kiran__Kalyan: Att  Mutuals 😍🔥\\n\\n#PawanKalyan #Prabhas #Maheshbabu \\n\\n#HappyBirthdayMaheshBabu https://t.co/yTSlamBSN4',\n",
       " 'RT @PrajaRaajyam: #HBDSuperstarMaheshBabu from Megafans &amp; PowerStar fans \\n\\n#Chiranjeevi #PawanKalyan #MegastarChiranjeevi #RamCharan @KChir…',\n",
       " 'RT @PrajaRaajyam: #HBDSuperstarMaheshBabu from Megafans &amp; PowerStar fans \\n\\n#Chiranjeevi #PawanKalyan #MegastarChiranjeevi #RamCharan @KChir…',\n",
       " 'RT @bobbymallesh687: Happy Birthday Brother @Basha__JSP  KING OF EDITS 🔥🔥🔥🤫🤫\\n   #PawanKalyan #BashaJSP @TrendPSPK',\n",
       " 'RT @Iam_SantoshRaj: 50K Likes In 15 Mins\\n100K Likes In 29 Mins\\n150K Likes In 50 Mins\\n200K Likes In 80Mins \\n250K Likes In 145 Mins\\n300K Like…',\n",
       " 'RT @itz__pk: .Att  Mutuals 😍🔥\\n\\n#PawanKalyan #Prabhas #Maheshbabu \\n\\n#HappyBirthdayMaheshBabu https://t.co/xsCqjOuTjz',\n",
       " 'RT @Kiran__Kalyan: Att  Mutuals 😍🔥\\n\\n#PawanKalyan #Prabhas #Maheshbabu \\n\\n#HappyBirthdayMaheshBabu https://t.co/yTSlamBSN4',\n",
       " 'RT @Kiran__Kalyan: Att  Mutuals 😍🔥\\n\\n#PawanKalyan #Prabhas #Maheshbabu \\n\\n#HappyBirthdayMaheshBabu https://t.co/yTSlamBSN4',\n",
       " 'RT @Kiran__Kalyan: Att  Mutuals 😍🔥\\n\\n#PawanKalyan #Prabhas #Maheshbabu \\n\\n#HappyBirthdayMaheshBabu https://t.co/yTSlamBSN4',\n",
       " 'RT @Kiran__Kalyan: Att  Mutuals 😍🔥\\n\\n#PawanKalyan #Prabhas #Maheshbabu \\n\\n#HappyBirthdayMaheshBabu https://t.co/yTSlamBSN4',\n",
       " 'RT @itz__pk: .Att  Mutuals 😍🔥\\n\\n#PawanKalyan #Prabhas #Maheshbabu \\n\\n#HappyBirthdayMaheshBabu https://t.co/xsCqjOuTjz']"
      ]
     },
     "execution_count": 18,
     "metadata": {},
     "output_type": "execute_result"
    }
   ],
   "source": [
    "tweets = tw.Cursor(api.search,\n",
    "                       q=search_words,\n",
    "                       lang=\"en\",\n",
    "                       since=date_since).items(15)\n",
    "\n",
    "# Collect a list of tweets\n",
    "[tweet.text for tweet in tweets]\n"
   ]
  },
  {
   "cell_type": "code",
   "execution_count": 19,
   "id": "a23b41d0",
   "metadata": {},
   "outputs": [
    {
     "data": {
      "text/plain": [
       "'#pawankalyan -filter:retweets'"
      ]
     },
     "execution_count": 19,
     "metadata": {},
     "output_type": "execute_result"
    }
   ],
   "source": [
    "new_search = search_words + \" -filter:retweets\"\n",
    "new_search\n"
   ]
  },
  {
   "cell_type": "code",
   "execution_count": 20,
   "id": "f84886bf",
   "metadata": {},
   "outputs": [
    {
     "data": {
      "text/plain": [
       "[['itz__pk', 'ALLUARJUN HEART'],\n",
       " ['KalyanFanK', ''],\n",
       " ['durgaprasad0209', 'east godavari,Andhra pradesh'],\n",
       " ['PavanKumarVSP', 'Kuppam, India'],\n",
       " ['VashiVelayudham', 'India 🇮🇳'],\n",
       " ['TCinemaFun', 'Hyderabad, India'],\n",
       " ['CMTelugu_', 'South India'],\n",
       " ['KINGKALYAN777', ''],\n",
       " ['devo_ee', ''],\n",
       " ['MissionKA2024', ''],\n",
       " ['bobbymallesh687', 'Samalkot'],\n",
       " ['SAIPAVA78284521', ''],\n",
       " ['Kiran__Kalyan', ''],\n",
       " ['HarshaPawanism5', ''],\n",
       " ['AnudeepKamatham', '']]"
      ]
     },
     "execution_count": 20,
     "metadata": {},
     "output_type": "execute_result"
    }
   ],
   "source": [
    "tweets = tw.Cursor(api.search, \n",
    "                           q=new_search,\n",
    "                           lang=\"en\",\n",
    "                           since=date_since).items(15)\n",
    "\n",
    "users_locs = [[tweet.user.screen_name, tweet.user.location] for tweet in tweets]\n",
    "users_locs"
   ]
  },
  {
   "cell_type": "code",
   "execution_count": null,
   "id": "200251ed",
   "metadata": {},
   "outputs": [],
   "source": []
  },
  {
   "cell_type": "code",
   "execution_count": null,
   "id": "f0e7a667",
   "metadata": {},
   "outputs": [],
   "source": []
  }
 ],
 "metadata": {
  "kernelspec": {
   "display_name": "Python 3",
   "language": "python",
   "name": "python3"
  },
  "language_info": {
   "codemirror_mode": {
    "name": "ipython",
    "version": 3
   },
   "file_extension": ".py",
   "mimetype": "text/x-python",
   "name": "python",
   "nbconvert_exporter": "python",
   "pygments_lexer": "ipython3",
   "version": "3.8.8"
  }
 },
 "nbformat": 4,
 "nbformat_minor": 5
}
