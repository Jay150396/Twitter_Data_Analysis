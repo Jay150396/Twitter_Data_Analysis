{
 "cells": [
  {
   "cell_type": "code",
   "execution_count": 1,
   "metadata": {},
   "outputs": [],
   "source": [
    "import os\n",
    "import tweepy as tw\n",
    "import pandas "
   ]
  },
  {
   "cell_type": "code",
   "execution_count": 2,
   "metadata": {},
   "outputs": [],
   "source": [
    "consumer_key = 'zsTrAIqVMAl6fMjd3aCnc243e'\n",
    "consumer_secret = 'bezIY6xoFrQTVr0BYdinyyd8eVc60JNDaXMCWFXr3blfVZ9PV0'\n",
    "access_token = '1059163618317606912-u4xy1i6vU5eptnQxnka9HXvz2eCNX6'\n",
    "access_token_secret = 'YQFGmkCYKIyDLmMO4Nfw3iRjPAMY9E4MtfLacmgohOsSI'"
   ]
  },
  {
   "cell_type": "code",
   "execution_count": 3,
   "metadata": {},
   "outputs": [],
   "source": [
    "auth = tw.OAuthHandler(consumer_key, consumer_secret)\n",
    "auth.set_access_token(access_token, access_token_secret)\n",
    "api = tw.API(auth, wait_on_rate_limit=True)"
   ]
  },
  {
   "cell_type": "code",
   "execution_count": 4,
   "metadata": {},
   "outputs": [],
   "source": [
    "search_words = \"#pawankalyan\"\n",
    "date_since = \"2018-11-16\""
   ]
  },
  {
   "cell_type": "code",
   "execution_count": 5,
   "metadata": {},
   "outputs": [
    {
     "data": {
      "text/plain": [
       "['RT @ManobalaV: #BheemlaNayak meets #GodFather.\\n\\nMegastar #Chiranjeevi &amp; powerstar #PawanKalyan met today at Aluminum Factory.',\n",
       " 'RT @tollymasti: As of now in the span of 24 Hours 🔥 \\n#BheemlaNayakGlimpse #BheemlaNayak #KomaramBheemNTR #SarkaruVaariPaata #Vakeelsaab #Pa…',\n",
       " 'RT @BheeshmaTalks: Powerstar #PawanKalyan and Megastar #Chiranjeevi met at the shooting spot at Aluminium Factory. \\n\\n#Chiru in #Acharya Loo…',\n",
       " 'RT @ManobalaV: #BheemlaNayak meets #GodFather.\\n\\nMegastar #Chiranjeevi &amp; powerstar #PawanKalyan met today at Aluminum Factory.',\n",
       " 'RT @BheeshmaTalks: Powerstar #PawanKalyan and Megastar #Chiranjeevi met at the shooting spot at Aluminium Factory. \\n\\n#Chiru in #Acharya Loo…',\n",
       " 'RT @ManobalaV: #BheemlaNayak meets #GodFather.\\n\\nMegastar #Chiranjeevi &amp; powerstar #PawanKalyan met today at Aluminum Factory.',\n",
       " 'RT @UttarandhraNow: #BJPJSP to project themselves as only alternative to ruling #YCP. #UANow #PawanKalyan https://t.co/D3YnpQfnKm',\n",
       " 'RT @tollymasti: As of now in the span of 24 Hours 🔥 \\n#BheemlaNayakGlimpse #BheemlaNayak #KomaramBheemNTR #SarkaruVaariPaata #Vakeelsaab #Pa…',\n",
       " 'RT @tollymasti: As of now in the span of 24 Hours 🔥 \\n#BheemlaNayakGlimpse #BheemlaNayak #KomaramBheemNTR #SarkaruVaariPaata #Vakeelsaab #Pa…',\n",
       " 'RT @ManobalaV: #BheemlaNayak meets #GodFather.\\n\\nMegastar #Chiranjeevi &amp; powerstar #PawanKalyan met today at Aluminum Factory.',\n",
       " \"RT @K__Setty: Below 1k🙄\\nMention your I'ds in reply.. I'll promote you :)🤗\\n\\nNote : 1st 200 only  😉😉😉\\n\\nRetweet chesina vallaku matrame chesth…\",\n",
       " 'RT @tollymasti: As of now in the span of 24 Hours 🔥 \\n#BheemlaNayakGlimpse #BheemlaNayak #KomaramBheemNTR #SarkaruVaariPaata #Vakeelsaab #Pa…',\n",
       " 'RT @ManobalaV: #BheemlaNayak meets #GodFather.\\n\\nMegastar #Chiranjeevi &amp; powerstar #PawanKalyan met today at Aluminum Factory.',\n",
       " 'RT @tollymasti: As of now in the span of 24 Hours 🔥 \\n#BheemlaNayakGlimpse #BheemlaNayak #KomaramBheemNTR #SarkaruVaariPaata #Vakeelsaab #Pa…',\n",
       " \"RT @K__Setty: Below 1k🙄\\nMention your I'ds in reply.. I'll promote you :)🤗\\n\\nNote : 1st 200 only  😉😉😉\\n\\nRetweet chesina vallaku matrame chesth…\"]"
      ]
     },
     "execution_count": 5,
     "metadata": {},
     "output_type": "execute_result"
    }
   ],
   "source": [
    "tweets = tw.Cursor(api.search,\n",
    "                       q=search_words,\n",
    "                       lang=\"en\",\n",
    "                       since=date_since).items(15)\n",
    "\n",
    "# Collect a list of tweets\n",
    "[tweet.text for tweet in tweets]\n"
   ]
  },
  {
   "cell_type": "code",
   "execution_count": 6,
   "metadata": {},
   "outputs": [
    {
     "data": {
      "text/plain": [
       "'#pawankalyan -filter:retweets'"
      ]
     },
     "execution_count": 6,
     "metadata": {},
     "output_type": "execute_result"
    }
   ],
   "source": [
    "new_search = search_words + \" -filter:retweets\"\n",
    "new_search\n"
   ]
  },
  {
   "cell_type": "code",
   "execution_count": 7,
   "metadata": {},
   "outputs": [
    {
     "data": {
      "text/plain": [
       "[['arigela_arvind', ''],\n",
       " ['K__Setty', 'Andhra Pradesh'],\n",
       " ['SampathDhawan2', ''],\n",
       " ['pspkfn', 'hyderabad'],\n",
       " ['shiva531', 'Hyderabad, India'],\n",
       " ['UttarandhraNow', 'Vizag, INDIA 🇮🇳'],\n",
       " ['Balu_ps_pk', 'Bezawada, India'],\n",
       " ['rseshu1', ''],\n",
       " ['IamPrasadLingam', ''],\n",
       " ['ManuNaiduPspk', 'West godavarian,Andhra Pradesh'],\n",
       " ['indi_boxoffice', ''],\n",
       " ['sharath_rayal', 'Madanapalle, Andhra Pradesh'],\n",
       " ['sith_shinobi', ''],\n",
       " ['sunilkumarck124', 'Kerala, India'],\n",
       " ['Pspkfanculb', '']]"
      ]
     },
     "execution_count": 7,
     "metadata": {},
     "output_type": "execute_result"
    }
   ],
   "source": [
    "tweets = tw.Cursor(api.search, \n",
    "                           q=new_search,\n",
    "                           lang=\"en\",\n",
    "                           since=date_since).items(15)\n",
    "\n",
    "users_locs = [[tweet.user.screen_name, tweet.user.location] for tweet in tweets]\n",
    "users_locs"
   ]
  },
  {
   "cell_type": "code",
   "execution_count": 8,
   "metadata": {},
   "outputs": [
    {
     "data": {
      "text/html": [
       "<div>\n",
       "<style scoped>\n",
       "    .dataframe tbody tr th:only-of-type {\n",
       "        vertical-align: middle;\n",
       "    }\n",
       "\n",
       "    .dataframe tbody tr th {\n",
       "        vertical-align: top;\n",
       "    }\n",
       "\n",
       "    .dataframe thead th {\n",
       "        text-align: right;\n",
       "    }\n",
       "</style>\n",
       "<table border=\"1\" class=\"dataframe\">\n",
       "  <thead>\n",
       "    <tr style=\"text-align: right;\">\n",
       "      <th></th>\n",
       "      <th>user</th>\n",
       "      <th>location</th>\n",
       "    </tr>\n",
       "  </thead>\n",
       "  <tbody>\n",
       "    <tr>\n",
       "      <th>0</th>\n",
       "      <td>arigela_arvind</td>\n",
       "      <td></td>\n",
       "    </tr>\n",
       "    <tr>\n",
       "      <th>1</th>\n",
       "      <td>K__Setty</td>\n",
       "      <td>Andhra Pradesh</td>\n",
       "    </tr>\n",
       "    <tr>\n",
       "      <th>2</th>\n",
       "      <td>SampathDhawan2</td>\n",
       "      <td></td>\n",
       "    </tr>\n",
       "    <tr>\n",
       "      <th>3</th>\n",
       "      <td>pspkfn</td>\n",
       "      <td>hyderabad</td>\n",
       "    </tr>\n",
       "    <tr>\n",
       "      <th>4</th>\n",
       "      <td>shiva531</td>\n",
       "      <td>Hyderabad, India</td>\n",
       "    </tr>\n",
       "    <tr>\n",
       "      <th>5</th>\n",
       "      <td>UttarandhraNow</td>\n",
       "      <td>Vizag, INDIA 🇮🇳</td>\n",
       "    </tr>\n",
       "    <tr>\n",
       "      <th>6</th>\n",
       "      <td>Balu_ps_pk</td>\n",
       "      <td>Bezawada, India</td>\n",
       "    </tr>\n",
       "    <tr>\n",
       "      <th>7</th>\n",
       "      <td>rseshu1</td>\n",
       "      <td></td>\n",
       "    </tr>\n",
       "    <tr>\n",
       "      <th>8</th>\n",
       "      <td>IamPrasadLingam</td>\n",
       "      <td></td>\n",
       "    </tr>\n",
       "    <tr>\n",
       "      <th>9</th>\n",
       "      <td>ManuNaiduPspk</td>\n",
       "      <td>West godavarian,Andhra Pradesh</td>\n",
       "    </tr>\n",
       "    <tr>\n",
       "      <th>10</th>\n",
       "      <td>indi_boxoffice</td>\n",
       "      <td></td>\n",
       "    </tr>\n",
       "    <tr>\n",
       "      <th>11</th>\n",
       "      <td>sharath_rayal</td>\n",
       "      <td>Madanapalle, Andhra Pradesh</td>\n",
       "    </tr>\n",
       "    <tr>\n",
       "      <th>12</th>\n",
       "      <td>sith_shinobi</td>\n",
       "      <td></td>\n",
       "    </tr>\n",
       "    <tr>\n",
       "      <th>13</th>\n",
       "      <td>sunilkumarck124</td>\n",
       "      <td>Kerala, India</td>\n",
       "    </tr>\n",
       "    <tr>\n",
       "      <th>14</th>\n",
       "      <td>Pspkfanculb</td>\n",
       "      <td></td>\n",
       "    </tr>\n",
       "  </tbody>\n",
       "</table>\n",
       "</div>"
      ],
      "text/plain": [
       "               user                        location\n",
       "0    arigela_arvind                                \n",
       "1          K__Setty                  Andhra Pradesh\n",
       "2    SampathDhawan2                                \n",
       "3            pspkfn                       hyderabad\n",
       "4          shiva531                Hyderabad, India\n",
       "5    UttarandhraNow                 Vizag, INDIA 🇮🇳\n",
       "6        Balu_ps_pk                 Bezawada, India\n",
       "7           rseshu1                                \n",
       "8   IamPrasadLingam                                \n",
       "9     ManuNaiduPspk  West godavarian,Andhra Pradesh\n",
       "10   indi_boxoffice                                \n",
       "11    sharath_rayal     Madanapalle, Andhra Pradesh\n",
       "12     sith_shinobi                                \n",
       "13  sunilkumarck124                   Kerala, India\n",
       "14      Pspkfanculb                                "
      ]
     },
     "execution_count": 8,
     "metadata": {},
     "output_type": "execute_result"
    }
   ],
   "source": [
    "tweet_text = pandas.DataFrame(data=users_locs, \n",
    "                    columns=['user', \"location\"])\n",
    "tweet_text"
   ]
  },
  {
   "cell_type": "code",
   "execution_count": null,
   "metadata": {},
   "outputs": [],
   "source": []
  }
 ],
 "metadata": {
  "kernelspec": {
   "display_name": "Python 3",
   "language": "python",
   "name": "python3"
  },
  "language_info": {
   "codemirror_mode": {
    "name": "ipython",
    "version": 3
   },
   "file_extension": ".py",
   "mimetype": "text/x-python",
   "name": "python",
   "nbconvert_exporter": "python",
   "pygments_lexer": "ipython3",
   "version": "3.7.1"
  }
 },
 "nbformat": 4,
 "nbformat_minor": 5
}
