{
 "cells": [
  {
   "cell_type": "code",
   "execution_count": 1,
   "id": "c9043445",
   "metadata": {},
   "outputs": [
    {
     "data": {
      "text/html": [
       "\n",
       "            <div>\n",
       "                <p><b>SparkSession - hive</b></p>\n",
       "                \n",
       "        <div>\n",
       "            <p><b>SparkContext</b></p>\n",
       "\n",
       "            <p><a href=\"http://DESKTOP-LAPUB8T:4041\">Spark UI</a></p>\n",
       "\n",
       "            <dl>\n",
       "              <dt>Version</dt>\n",
       "                <dd><code>v3.1.2</code></dd>\n",
       "              <dt>Master</dt>\n",
       "                <dd><code>local[2]</code></dd>\n",
       "              <dt>AppName</dt>\n",
       "                <dd><code>PySparkShell</code></dd>\n",
       "            </dl>\n",
       "        </div>\n",
       "        \n",
       "            </div>\n",
       "        "
      ],
      "text/plain": [
       "<pyspark.sql.session.SparkSession at 0x1b9266945e0>"
      ]
     },
     "execution_count": 1,
     "metadata": {},
     "output_type": "execute_result"
    }
   ],
   "source": [
    "import pyspark\n",
    "from pyspark import SparkContext\n",
    "sc = SparkContext.getOrCreate();\n",
    "import findspark\n",
    "findspark.init()\n",
    "from pyspark.sql import SparkSession\n",
    "spark = SparkSession.builder.master(\"local[*]\").getOrCreate()\n",
    "spark.conf.set(\"spark.sql.repl.eagerEval.enabled\", True) # Property used to format output tables better\n",
    "spark"
   ]
  },
  {
   "cell_type": "code",
   "execution_count": 2,
   "id": "d58a783b",
   "metadata": {},
   "outputs": [],
   "source": [
    "sc.stop()"
   ]
  },
  {
   "cell_type": "code",
   "execution_count": 3,
   "id": "58547eb9",
   "metadata": {},
   "outputs": [],
   "source": [
    "import pyspark\n",
    "from pyspark.sql import SparkSession\n",
    "spark = SparkSession.builder.master(\"local[*]\").getOrCreate()\n",
    "spark.conf.set(\"spark.sql.repl.eagerEval.enabled\", True) # Property used to format output tables better\n",
    "spark\n",
    "\n",
    "from pyspark.sql import SparkSession\n",
    "\n",
    "spark = SparkSession.builder.appName('DataAnalysisOnElonMusk').getOrCreate()"
   ]
  },
  {
   "cell_type": "code",
   "execution_count": 4,
   "id": "bc6f2840",
   "metadata": {},
   "outputs": [],
   "source": [
    "import os\n",
    "import re\n",
    "from datetime import date, datetime\n",
    "import pandas as pd"
   ]
  },
  {
   "cell_type": "code",
   "execution_count": 5,
   "id": "12b11263",
   "metadata": {},
   "outputs": [],
   "source": [
    "file_path_name = 'elonmusk.csv'"
   ]
  },
  {
   "cell_type": "code",
   "execution_count": 6,
   "id": "a6cb3f59",
   "metadata": {},
   "outputs": [],
   "source": [
    "def open_file(file_path_name):\n",
    "    return pd.read_csv(file_path_name, index_col=[0])"
   ]
  },
  {
   "cell_type": "code",
   "execution_count": 7,
   "id": "1fd16164",
   "metadata": {},
   "outputs": [
    {
     "name": "stdout",
     "output_type": "stream",
     "text": [
      "                         conversation_id     created_at        date      time  \\\n",
      "id                                                                              \n",
      "1282939902531796993  1282933079431151618  1594711683000  2020-07-14  07:28:03   \n",
      "1282844872571904000  1282801938111791104  1594689026000  2020-07-14  01:10:26   \n",
      "1282805559834492929  1282758532312584193  1594679653000  2020-07-13  22:34:13   \n",
      "1282800187308572672  1282671714657157120  1594678372000  2020-07-13  22:12:52   \n",
      "1282800078000803840  1282739486816964615  1594678346000  2020-07-13  22:12:26   \n",
      "\n",
      "                    timezone   user_id  username       name  place  \\\n",
      "id                                                                   \n",
      "1282939902531796993      UTC  44196397  elonmusk  Elon Musk    NaN   \n",
      "1282844872571904000      UTC  44196397  elonmusk  Elon Musk    NaN   \n",
      "1282805559834492929      UTC  44196397  elonmusk  Elon Musk    NaN   \n",
      "1282800187308572672      UTC  44196397  elonmusk  Elon Musk    NaN   \n",
      "1282800078000803840      UTC  44196397  elonmusk  Elon Musk    NaN   \n",
      "\n",
      "                                                                 tweet  ...  \\\n",
      "id                                                                      ...   \n",
      "1282939902531796993                                               Cute  ...   \n",
      "1282844872571904000                                                Wow  ...   \n",
      "1282805559834492929  Reusability is essential. A rocket that is sin...  ...   \n",
      "1282800187308572672                                        Wild times!  ...   \n",
      "1282800078000803840  We’re being extra paranoid. Maximizing probabi...  ...   \n",
      "\n",
      "                    geo source user_rt_id  user_rt  retweet_id  \\\n",
      "id                                                               \n",
      "1282939902531796993 NaN    NaN        NaN      NaN         NaN   \n",
      "1282844872571904000 NaN    NaN        NaN      NaN         NaN   \n",
      "1282805559834492929 NaN    NaN        NaN      NaN         NaN   \n",
      "1282800187308572672 NaN    NaN        NaN      NaN         NaN   \n",
      "1282800078000803840 NaN    NaN        NaN      NaN         NaN   \n",
      "\n",
      "                                                              reply_to  \\\n",
      "id                                                                       \n",
      "1282939902531796993  [{'user_id': '44196397', 'username': 'elonmusk...   \n",
      "1282844872571904000  [{'user_id': '44196397', 'username': 'elonmusk...   \n",
      "1282805559834492929  [{'user_id': '44196397', 'username': 'elonmusk...   \n",
      "1282800187308572672  [{'user_id': '44196397', 'username': 'elonmusk...   \n",
      "1282800078000803840  [{'user_id': '44196397', 'username': 'elonmusk...   \n",
      "\n",
      "                    retweet_date translate trans_src  trans_dest  \n",
      "id                                                                \n",
      "1282939902531796993          NaN       NaN       NaN         NaN  \n",
      "1282844872571904000          NaN       NaN       NaN         NaN  \n",
      "1282805559834492929          NaN       NaN       NaN         NaN  \n",
      "1282800187308572672          NaN       NaN       NaN         NaN  \n",
      "1282800078000803840          NaN       NaN       NaN         NaN  \n",
      "\n",
      "[5 rows x 33 columns]\n"
     ]
    }
   ],
   "source": [
    "print(open_file(file_path_name).head())"
   ]
  },
  {
   "cell_type": "code",
   "execution_count": 8,
   "id": "994ad752",
   "metadata": {},
   "outputs": [],
   "source": [
    "def clean_dataframe(df, columns_to_drop):\n",
    "    df = drop_redundant_columns(df, columns_to_drop)\n",
    "    return df\n",
    "def transform_dataframe(df):\n",
    "    df = drop_columns_with_constant_values(df)\n",
    "    add_mentions_count(df)\n",
    "    add_weekday(df)\n",
    "    add_reply_to_count(df)\n",
    "    add_photos_count(df)\n",
    "    convert_to_datetime(df)\n",
    "    extract_hour_minute(df)\n",
    "    df = drop_redundant_columns(df, ['photos', 'date', 'mentions', 'reply_to', 'reply_to_count'])\n",
    "    return df"
   ]
  },
  {
   "cell_type": "code",
   "execution_count": 9,
   "id": "7ab6c5da",
   "metadata": {},
   "outputs": [],
   "source": [
    "columns_to_drop = ['hashtags', 'cashtags', 'link', 'quote_url', 'urls', 'created_at']\n",
    "def drop_redundant_columns(df, columns_to_drop):\n",
    "    return df.drop(columns=columns_to_drop, axis=0)\n",
    "def drop_columns_with_constant_values(df):\n",
    "    return df.drop(columns=list(df.columns[df.nunique() <= 1]))\n",
    "def add_mentions_count(df):\n",
    "    new_values = []\n",
    "    for i, content in df['mentions'].items():\n",
    "        new_values.append(int(content.count(\"'\") / 2))\n",
    "    df['mentions_count'] = new_values\n",
    "    return df\n",
    "def add_weekday(df):\n",
    "    weekday = []\n",
    "    for i, content in df['date'].items():\n",
    "        year, month, day = map(int, content.split('-'))\n",
    "        d = date(year, month, day)\n",
    "        weekday.append(d.weekday())\n",
    "    df['weekday'] = weekday\n",
    "    return df\n",
    "def add_reply_to_count(df):\n",
    "    reply_to_count_values = []\n",
    "    for i, content in df['reply_to'].items():\n",
    "        reply_to_count_values.append((int(content.count(\"{\")) - 1))\n",
    "    df['reply_to_count'] = reply_to_count_values\n",
    "    return df\n",
    "def add_photos_count(df):\n",
    "    new_values = []\n",
    "    for i, content in df['photos'].items():\n",
    "        new_values.append(int(content.count(\"https\")))\n",
    "    df['photos_count'] = new_values\n",
    "    return df\n",
    "def convert_to_datetime(df):\n",
    "    df['datetime'] = (df['date'] + \" \" + df['time']).astype('string')\n",
    "    return df"
   ]
  },
  {
   "cell_type": "code",
   "execution_count": 10,
   "id": "c203db54",
   "metadata": {},
   "outputs": [],
   "source": [
    "def extract_hour_minute(df):\n",
    "    year_col = []\n",
    "    month_col = []\n",
    "    hour_col = []\n",
    "    minute_col = []\n",
    "    for i, content in df['datetime'].items():\n",
    "        t1 = datetime.strptime(content, '%Y-%m-%d %H:%M:%S')\n",
    "        year_col.append(t1.year)\n",
    "        month_col.append(t1.month)\n",
    "        hour_col.append(t1.hour)\n",
    "        minute_col.append(t1.minute)\n",
    "    df['year'] = year_col\n",
    "    df['month'] = month_col\n",
    "    df['hour'] = hour_col\n",
    "    df['minute'] = minute_col\n",
    "    return df"
   ]
  },
  {
   "cell_type": "code",
   "execution_count": 11,
   "id": "a8b27422",
   "metadata": {},
   "outputs": [],
   "source": [
    "df = open_file(file_path_name)\n",
    "new_df = clean_dataframe(df, columns_to_drop)\n",
    "new_df = transform_dataframe(new_df)"
   ]
  },
  {
   "cell_type": "code",
   "execution_count": 12,
   "id": "62af59e1",
   "metadata": {},
   "outputs": [
    {
     "name": "stdout",
     "output_type": "stream",
     "text": [
      "[('conversation_id', '9286'), ('time', '9286'), ('tweet', '9286'), ('replies_count', '9286'), ('retweets_count', '9286'), ('likes_count', '9286'), ('video', '9286'), ('mentions_count', '9286'), ('weekday', '9286'), ('photos_count', '9286'), ('datetime', '9286'), ('year', '9286'), ('month', '9286'), ('hour', '9286'), ('minute', '9286')]\n"
     ]
    }
   ],
   "source": [
    "df['tweet'] = df['tweet'].str.lower()\n",
    "data = []\n",
    "for i,j in zip(new_df,new_df.count()):\n",
    "    data.append((i,str(j)))\n",
    "rdd = spark.sparkContext.parallelize(data)\n",
    "resultCount = rdd.collect()\n",
    "print(resultCount)"
   ]
  },
  {
   "cell_type": "code",
   "execution_count": 13,
   "id": "3fb66ab3",
   "metadata": {},
   "outputs": [
    {
     "name": "stdout",
     "output_type": "stream",
     "text": [
      "[(8356, 15)]\n",
      "[('conversation_id', '8356'), ('time', '8356'), ('tweet', '8356'), ('replies_count', '8356'), ('retweets_count', '8356'), ('likes_count', '8356'), ('video', '8356'), ('mentions_count', '8356'), ('weekday', '8356'), ('photos_count', '8356'), ('datetime', '8356'), ('year', '8356'), ('month', '8356'), ('hour', '8356'), ('minute', '8356')]\n"
     ]
    }
   ],
   "source": [
    "#Dropping duplicates from previous count data\n",
    "new_df.drop_duplicates(subset=['tweet'], keep='first', inplace=True)\n",
    "#print(new_df.shape)\n",
    "shape = spark.sparkContext.parallelize([new_df.shape]).collect()\n",
    "print(shape)\n",
    "data2 = []\n",
    "for i,j in zip(new_df,new_df.count()):\n",
    "    data2.append((i,str(j)))\n",
    "rdd = spark.sparkContext.parallelize(data2)\n",
    "resultCount2 = rdd.collect()\n",
    "print(resultCount2)"
   ]
  },
  {
   "cell_type": "code",
   "execution_count": 14,
   "id": "a76dd97c",
   "metadata": {},
   "outputs": [
    {
     "name": "stdout",
     "output_type": "stream",
     "text": [
      "Total number of words:  112254 words\n"
     ]
    }
   ],
   "source": [
    "count = new_df['tweet'].str.split().str.len()\n",
    "count.index = count.index.astype(str) + ' words:'\n",
    "count.sort_index(inplace=True)\n",
    "def word_count(df):\n",
    "    words_count = []\n",
    "    for i, content in df['tweet'].items():\n",
    "        new_values =[]\n",
    "        new_values = content.split()\n",
    "        words_count.append(len(new_values))\n",
    "    df['word_count'] = words_count\n",
    "    return df\n",
    "new_df = word_count(new_df)\n",
    "print(\"Total number of words: \", count.sum(), \"words\")"
   ]
  },
  {
   "cell_type": "code",
   "execution_count": 15,
   "id": "ec7e49fd",
   "metadata": {},
   "outputs": [
    {
     "name": "stdout",
     "output_type": "stream",
     "text": [
      "Average number of words per tweet:  13.43 words\n",
      "Max number of words per tweet:  58 words\n",
      "Min number of words per tweet:  1 words\n"
     ]
    }
   ],
   "source": [
    "print(\"Average number of words per tweet: \", round(count.mean(),2), \"words\")\n",
    "print(\"Max number of words per tweet: \", count.max(), \"words\")\n",
    "print(\"Min number of words per tweet: \", count.min(), \"words\")"
   ]
  },
  {
   "cell_type": "code",
   "execution_count": 16,
   "id": "90bd730f",
   "metadata": {},
   "outputs": [
    {
     "name": "stdout",
     "output_type": "stream",
     "text": [
      "Total length of a dataset:  705735 characters\n",
      "Average length of a tweet:  84.0 characters\n"
     ]
    }
   ],
   "source": [
    "new_df['tweet_length'] = new_df['tweet'].str.len()\n",
    "print(\"Total length of a dataset: \", new_df.tweet_length.sum(), \"characters\")\n",
    "print(\"Average length of a tweet: \", round(new_df.tweet_length.mean(),0), \"characters\")"
   ]
  },
  {
   "cell_type": "code",
   "execution_count": null,
   "id": "b9525d6a",
   "metadata": {},
   "outputs": [],
   "source": []
  },
  {
   "cell_type": "code",
   "execution_count": null,
   "id": "a0f36de6",
   "metadata": {},
   "outputs": [],
   "source": []
  }
 ],
 "metadata": {
  "kernelspec": {
   "display_name": "Python 3",
   "language": "python",
   "name": "python3"
  },
  "language_info": {
   "codemirror_mode": {
    "name": "ipython",
    "version": 3
   },
   "file_extension": ".py",
   "mimetype": "text/x-python",
   "name": "python",
   "nbconvert_exporter": "python",
   "pygments_lexer": "ipython3",
   "version": "3.8.8"
  }
 },
 "nbformat": 4,
 "nbformat_minor": 5
}
