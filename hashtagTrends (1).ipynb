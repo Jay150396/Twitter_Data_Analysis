{
 "cells": [
  {
   "cell_type": "code",
   "execution_count": 1,
   "id": "749421f8",
   "metadata": {},
   "outputs": [
    {
     "data": {
      "text/html": [
       "\n",
       "            <div>\n",
       "                <p><b>SparkSession - hive</b></p>\n",
       "                \n",
       "        <div>\n",
       "            <p><b>SparkContext</b></p>\n",
       "\n",
       "            <p><a href=\"http://DESKTOP-LAPUB8T:4041\">Spark UI</a></p>\n",
       "\n",
       "            <dl>\n",
       "              <dt>Version</dt>\n",
       "                <dd><code>v3.1.2</code></dd>\n",
       "              <dt>Master</dt>\n",
       "                <dd><code>local[2]</code></dd>\n",
       "              <dt>AppName</dt>\n",
       "                <dd><code>PySparkShell</code></dd>\n",
       "            </dl>\n",
       "        </div>\n",
       "        \n",
       "            </div>\n",
       "        "
      ],
      "text/plain": [
       "<pyspark.sql.session.SparkSession at 0x223265b35e0>"
      ]
     },
     "execution_count": 1,
     "metadata": {},
     "output_type": "execute_result"
    }
   ],
   "source": [
    "import pyspark\n",
    "from pyspark import SparkContext\n",
    "sc = SparkContext.getOrCreate();\n",
    "import findspark\n",
    "findspark.init()\n",
    "from pyspark.sql import SparkSession\n",
    "spark = SparkSession.builder.master(\"local[*]\").getOrCreate()\n",
    "spark.conf.set(\"spark.sql.repl.eagerEval.enabled\", True) # Property used to format output tables better\n",
    "spark"
   ]
  },
  {
   "cell_type": "code",
   "execution_count": 2,
   "id": "7e42294b",
   "metadata": {},
   "outputs": [],
   "source": [
    "sc.stop()"
   ]
  },
  {
   "cell_type": "code",
   "execution_count": 3,
   "id": "0e4e073e",
   "metadata": {},
   "outputs": [],
   "source": [
    "from __future__ import print_function\n",
    "from pyspark import SparkContext\n",
    "from pyspark.streaming import StreamingContext"
   ]
  },
  {
   "cell_type": "code",
   "execution_count": 4,
   "id": "f7f2d8fb",
   "metadata": {},
   "outputs": [],
   "source": [
    "sc=SparkContext(appName=\"StreamingTwitterAnalysis\")\n",
    "sc.setLogLevel(\"ERROR\")\n",
    "ssc=StreamingContext(sc,10)"
   ]
  },
  {
   "cell_type": "code",
   "execution_count": 5,
   "id": "0f582191",
   "metadata": {},
   "outputs": [],
   "source": [
    "socket_stream = ssc.socketTextStream(\"127.0.0.1\",5555)"
   ]
  },
  {
   "cell_type": "code",
   "execution_count": 6,
   "id": "b1753769",
   "metadata": {},
   "outputs": [],
   "source": [
    "lines=socket_stream.window(60)"
   ]
  },
  {
   "cell_type": "code",
   "execution_count": 7,
   "id": "1343ede0",
   "metadata": {},
   "outputs": [],
   "source": [
    "hashtags = lines.flatMap(lambda text:text.split(\" \")).filter(lambda word:word.lower().startswith('#')).map(lambda word:(word.lower(),1)).reduceByKey(lambda a,b:a+b)"
   ]
  },
  {
   "cell_type": "code",
   "execution_count": 8,
   "id": "3f4cda39",
   "metadata": {},
   "outputs": [],
   "source": [
    "author_counts_sorted_dstream=hashtags.transform(lambda foo:foo.sortBy(lambda x:x[0].lower()).sortBy(lambda x:x[1],ascending=False))"
   ]
  },
  {
   "cell_type": "code",
   "execution_count": 9,
   "id": "f488dc55",
   "metadata": {},
   "outputs": [],
   "source": [
    "author_counts_sorted_dstream.pprint()"
   ]
  },
  {
   "cell_type": "code",
   "execution_count": 10,
   "id": "e0020281",
   "metadata": {},
   "outputs": [],
   "source": [
    "ssc.start()"
   ]
  },
  {
   "cell_type": "code",
   "execution_count": null,
   "id": "5aa1bac0",
   "metadata": {},
   "outputs": [
    {
     "name": "stdout",
     "output_type": "stream",
     "text": [
      "-------------------------------------------\n",
      "Time: 2021-08-06 11:29:50\n",
      "-------------------------------------------\n",
      "('#mslindseyisaliar', 1)\n",
      "\n",
      "-------------------------------------------\n",
      "Time: 2021-08-06 11:30:00\n",
      "-------------------------------------------\n",
      "('#magamoronsrt', 1)\n",
      "('#mslindseyisaliar', 1)\n",
      "('#overheardatworkrt', 1)\n",
      "('#trumplosers', 1)\n",
      "\n",
      "-------------------------------------------\n",
      "Time: 2021-08-06 11:30:10\n",
      "-------------------------------------------\n",
      "('#magamoronsrt', 1)\n",
      "('#mslindseyisaliar', 1)\n",
      "('#overheardatworkrt', 1)\n",
      "('#trumplosers', 1)\n",
      "\n",
      "-------------------------------------------\n",
      "Time: 2021-08-06 11:30:20\n",
      "-------------------------------------------\n",
      "('#holdhimaccountable', 1)\n",
      "('#january6th', 1)\n",
      "('#january6thcommittee', 1)\n",
      "('#magamoronsrt', 1)\n",
      "('#metoo', 1)\n",
      "('#mslindseyisaliar', 1)\n",
      "('#overheardatworkrt', 1)\n",
      "('#pedojoehasgottogo', 1)\n",
      "('#trump', 1)\n",
      "('#trumplosers', 1)\n",
      "\n",
      "-------------------------------------------\n",
      "Time: 2021-08-06 11:30:30\n",
      "-------------------------------------------\n",
      "('#trump', 2)\n",
      "('#dvlottery', 1)\n",
      "('#holdhimaccountable', 1)\n",
      "('#january6th', 1)\n",
      "('#january6thcommittee', 1)\n",
      "('#magamoronsrt', 1)\n",
      "('#metoo', 1)\n",
      "('#mslindseyisaliar', 1)\n",
      "('#overheardatworkrt', 1)\n",
      "('#pedojoehasgottogo', 1)\n",
      "...\n",
      "\n",
      "-------------------------------------------\n",
      "Time: 2021-08-06 11:30:40\n",
      "-------------------------------------------\n",
      "('#trump', 3)\n",
      "('#dvlottery', 1)\n",
      "('#fauxnewsrt', 1)\n",
      "('#footballeusesaméricaines', 1)\n",
      "('#getreadytounfold', 1)\n",
      "('#holdhimaccountable', 1)\n",
      "('#january6th', 1)\n",
      "('#january6thcommittee', 1)\n",
      "('#magamoronsrt', 1)\n",
      "('#metoo', 1)\n",
      "...\n",
      "\n"
     ]
    }
   ],
   "source": [
    "ssc.awaitTermination()"
   ]
  },
  {
   "cell_type": "code",
   "execution_count": null,
   "id": "242844ab",
   "metadata": {},
   "outputs": [],
   "source": []
  },
  {
   "cell_type": "code",
   "execution_count": null,
   "id": "938b00e4",
   "metadata": {},
   "outputs": [],
   "source": []
  }
 ],
 "metadata": {
  "kernelspec": {
   "display_name": "Python 3",
   "language": "python",
   "name": "python3"
  },
  "language_info": {
   "codemirror_mode": {
    "name": "ipython",
    "version": 3
   },
   "file_extension": ".py",
   "mimetype": "text/x-python",
   "name": "python",
   "nbconvert_exporter": "python",
   "pygments_lexer": "ipython3",
   "version": "3.8.8"
  }
 },
 "nbformat": 4,
 "nbformat_minor": 5
}
